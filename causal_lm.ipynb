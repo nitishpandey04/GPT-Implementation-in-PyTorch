{
  "cells": [
    {
      "cell_type": "code",
      "execution_count": null,
      "metadata": {
        "id": "lIYdn1woOS1n"
      },
      "outputs": [],
      "source": [
        "import torch\n",
        "import torch.nn as nn\n",
        "from torch.nn import functional as F"
      ]
    },
    {
      "cell_type": "code",
      "source": [
        "# hyperparameters\n",
        "\n",
        "batch_size = 64 # how many independent sequences will we process in parallel?\n",
        "block_size = 256 # what is the maximum context length for predictions?\n",
        "max_iters = 5000\n",
        "eval_interval = 500\n",
        "learning_rate = 3e-4\n",
        "device = 'cuda' if torch.cuda.is_available() else 'cpu'\n",
        "eval_iters = 200\n",
        "n_embd = 384\n",
        "n_head = 6\n",
        "head_size = n_embd // n_head\n",
        "n_layer = 6\n",
        "dropout = 0.2"
      ],
      "metadata": {
        "id": "yhJTnAHioSqV"
      },
      "execution_count": null,
      "outputs": []
    },
    {
      "cell_type": "code",
      "source": [
        "torch.manual_seed(1337)\n",
        "!wget https://raw.githubusercontent.com/karpathy/char-rnn/master/data/tinyshakespeare/input.txt\n",
        "with open('input.txt', 'r', encoding='utf-8') as f:\n",
        "    text = f.read()\n",
        "\n",
        "# here are all the unique characters that occur in this text\n",
        "chars = sorted(list(set(text)))\n",
        "vocab_size = len(chars)\n",
        "# create a mapping from characters to integers\n",
        "stoi = { ch:i for i, ch in enumerate(chars) }\n",
        "itos = { i:ch for i, ch in enumerate(chars) }\n",
        "encode = lambda s: [stoi[c] for c in s] # encoder: take a string, output a list of integers\n",
        "decode = lambda l: ''.join([itos[i] for i in l]) # decoder: take a list of integers, output a string\n",
        "\n",
        "# Train and test splits\n",
        "data = torch.tensor(encode(text), dtype=torch.long)\n",
        "n = int(0.9 * len(data)) # first 90% will be train, rest val\n",
        "train_data = data[:n]\n",
        "val_data = data[n:]\n",
        "\n",
        "# data loading\n",
        "def get_batch(split):\n",
        "    # generate a small batch of data of inputs x and targets y\n",
        "    data = train_data if split == 'train' else val_data\n",
        "    ix = torch.randint(len(data) - block_size, (batch_size,))\n",
        "    x = torch.stack([data[i:i + block_size] for i in ix])\n",
        "    y = torch.stack([data[i + 1:i + block_size + 1] for i in ix])\n",
        "    x, y = x.to(device), y.to(device)\n",
        "    return x, y"
      ],
      "metadata": {
        "id": "4-BsyVb7ohLi",
        "outputId": "1724873f-b914-4b5a-95d4-625386e2055a",
        "colab": {
          "base_uri": "https://localhost:8080/"
        }
      },
      "execution_count": null,
      "outputs": [
        {
          "output_type": "stream",
          "name": "stdout",
          "text": [
            "--2024-09-25 16:05:03--  https://raw.githubusercontent.com/karpathy/char-rnn/master/data/tinyshakespeare/input.txt\n",
            "Resolving raw.githubusercontent.com (raw.githubusercontent.com)... 185.199.108.133, 185.199.109.133, 185.199.110.133, ...\n",
            "Connecting to raw.githubusercontent.com (raw.githubusercontent.com)|185.199.108.133|:443... connected.\n",
            "HTTP request sent, awaiting response... 200 OK\n",
            "Length: 1115394 (1.1M) [text/plain]\n",
            "Saving to: ‘input.txt.1’\n",
            "\n",
            "input.txt.1         100%[===================>]   1.06M  --.-KB/s    in 0.04s   \n",
            "\n",
            "2024-09-25 16:05:03 (29.5 MB/s) - ‘input.txt.1’ saved [1115394/1115394]\n",
            "\n"
          ]
        }
      ]
    },
    {
      "cell_type": "code",
      "source": [
        "# evaluation while training\n",
        "\n",
        "@torch.no_grad()\n",
        "def estimate_loss():\n",
        "    out = {}\n",
        "    model.eval()\n",
        "    for split in ['train', 'val']:\n",
        "        losses = torch.zeros(eval_iters, device=device)\n",
        "        for k in range(eval_iters):\n",
        "            X, Y = get_batch(split)\n",
        "            logits, loss = model(X, Y)\n",
        "            losses[k] = loss.item()\n",
        "        out[split] = losses.mean()\n",
        "    model.train()\n",
        "    return out"
      ],
      "metadata": {
        "id": "Emo3raW-xv3K"
      },
      "execution_count": null,
      "outputs": []
    },
    {
      "cell_type": "code",
      "source": [
        "class FeedForwardLayer(nn.Module):\n",
        "\n",
        "    def __init__(self):\n",
        "        super().__init__()\n",
        "        self.ffwd = nn.Linear(n_embd, 4 * n_embd)\n",
        "        self.relu = nn.ReLU()\n",
        "        self.proj = nn.Linear(4 * n_embd, n_embd)\n",
        "\n",
        "    def forward(self, x):\n",
        "        x = self.ffwd(x)\n",
        "        x = self.relu(x)\n",
        "        out = self.proj(x)\n",
        "        return out\n",
        "\n",
        "\n",
        "class SelfAttentionHead(nn.Module):\n",
        "\n",
        "    def __init__(self):\n",
        "        super().__init__()\n",
        "        self.key = nn.Linear(n_embd, head_size)\n",
        "        self.query = nn.Linear(n_embd, head_size)\n",
        "        self.value = nn.Linear(n_embd, head_size)\n",
        "        self.register_buffer('tril', torch.tril(torch.ones((block_size, block_size))))\n",
        "\n",
        "    def forward(self, x):\n",
        "        B, T, C = x.shape\n",
        "\n",
        "        k = self.key(x)\n",
        "        q = self.query(x)\n",
        "\n",
        "        wei = q @ k.transpose(-2, -1) * k.shape[-1] ** -0.5\n",
        "        wei = wei.masked_fill(self.tril[:T, :T] == 0, float('-inf'))\n",
        "        wei = F.softmax(wei, dim=-1)\n",
        "\n",
        "        v = self.value(x)\n",
        "        out = wei @ v\n",
        "\n",
        "        return out\n",
        "\n",
        "\n",
        "class MultiHeadAttention(nn.Module):\n",
        "\n",
        "    def __init__(self):\n",
        "        super().__init__()\n",
        "        self.heads = nn.ModuleList([SelfAttentionHead() for i in range(n_head)])\n",
        "        self.proj = nn.Linear(n_embd, n_embd)\n",
        "\n",
        "    def forward(self, x):\n",
        "        x = torch.cat([head(x) for head in self.heads], dim=-1)\n",
        "        out = self.proj(x)\n",
        "        return out\n",
        "\n",
        "\n",
        "class AttentionBlock(nn.Module):\n",
        "\n",
        "    def __init__(self):\n",
        "        super().__init__()\n",
        "        self.mha_attn = MultiHeadAttention()\n",
        "        self.ffwd = FeedForwardLayer()\n",
        "        self.ln1 = nn.LayerNorm(n_embd)\n",
        "        self.ln2 = nn.LayerNorm(n_embd)\n",
        "\n",
        "    def forward(self, x):\n",
        "        x = x + self.mha_attn(self.ln1(x))  # communication\n",
        "        out = x + self.ffwd(self.ln2(x))    # computation\n",
        "        return out\n",
        "\n",
        "\n",
        "class CausalLM(nn.Module):\n",
        "\n",
        "    def __init__(self):\n",
        "        super().__init__()\n",
        "        self.token_embedding_table = nn.Embedding(vocab_size, n_embd)\n",
        "        self.position_embedding_table = nn.Embedding(block_size, n_embd)\n",
        "        self.attn_block = AttentionBlock()\n",
        "        self.lm_head = nn.Linear(n_embd, vocab_size)\n",
        "\n",
        "    def forward(self, inputs, targets=None):\n",
        "        B, T = inputs.shape\n",
        "\n",
        "        tok_emb = self.token_embedding_table(inputs) # B, T, C\n",
        "        pos_emb = self.position_embedding_table(torch.arange(inputs.shape[1], device=device)) # B, T, C\n",
        "        x = tok_emb + pos_emb # B, T, C\n",
        "        x = self.attn_block(x) # B, T, C\n",
        "\n",
        "        logits = self.lm_head(x) # B, T, V\n",
        "        loss = None\n",
        "        if targets is not None:\n",
        "            loss = F.cross_entropy(logits.view(-1, vocab_size), targets.view(-1,))\n",
        "        return logits, loss\n",
        "\n",
        "    @torch.no_grad()\n",
        "    def generate(self, x, max_new_tokens=100):\n",
        "        for i in range(max_new_tokens):\n",
        "\n",
        "            x_block_size = x[:, -block_size:]\n",
        "\n",
        "            logits, loss = self(x_block_size)\n",
        "            probs = F.softmax(logits[:, -1, :], dim=-1)\n",
        "\n",
        "            next_idxs = torch.multinomial(probs, num_samples=1)\n",
        "            x = torch.cat([x, next_idxs], dim=-1)\n",
        "        return x"
      ],
      "metadata": {
        "id": "Or1eFIjYopbG"
      },
      "execution_count": null,
      "outputs": []
    },
    {
      "cell_type": "code",
      "source": [
        "# model initialization\n",
        "\n",
        "model = CausalLM().to(device)"
      ],
      "metadata": {
        "id": "pwjrdasOota4"
      },
      "execution_count": null,
      "outputs": []
    },
    {
      "cell_type": "code",
      "source": [
        "# optimizer initialization\n",
        "\n",
        "optimizer = torch.optim.AdamW(model.parameters(), lr=learning_rate)"
      ],
      "metadata": {
        "id": "W7S6tvBIqsf7"
      },
      "execution_count": null,
      "outputs": []
    },
    {
      "cell_type": "code",
      "source": [
        "# training\n",
        "\n",
        "for i in range(max_iters):     # number of training steps\n",
        "\n",
        "    if i % eval_interval == 0 or i == max_iters - 1:\n",
        "        losses = estimate_loss()\n",
        "        print(f\"step {i}: train loss {losses['train']:.4f} val loss {losses['val']:.4f}\")\n",
        "\n",
        "    x, y = get_batch('train')  # custom function to get the training batch\n",
        "    logits, loss = model(x, y)     # forward pass\n",
        "\n",
        "    optimizer.zero_grad()      # to clear out the previous gradients\n",
        "    loss.backward()            # backward pass, calculating gradients of parameters wrt loss\n",
        "    optimizer.step()           # updating parameters with gradients"
      ],
      "metadata": {
        "id": "myre42dNq36v",
        "outputId": "d9f79115-f463-4d68-c7de-3756cb0c0358",
        "colab": {
          "base_uri": "https://localhost:8080/"
        }
      },
      "execution_count": null,
      "outputs": [
        {
          "output_type": "stream",
          "name": "stdout",
          "text": [
            "step 0: train loss 4.4595 val loss 4.4697\n",
            "step 500: train loss 2.1611 val loss 2.2096\n",
            "step 1000: train loss 1.8178 val loss 1.9473\n",
            "step 1500: train loss 1.6365 val loss 1.8156\n",
            "step 2000: train loss 1.5444 val loss 1.7466\n",
            "step 2500: train loss 1.4768 val loss 1.6920\n",
            "step 3000: train loss 1.4348 val loss 1.6643\n",
            "step 3500: train loss 1.3986 val loss 1.6403\n",
            "step 4000: train loss 1.3732 val loss 1.6194\n",
            "step 4500: train loss 1.3540 val loss 1.6167\n",
            "step 4999: train loss 1.3352 val loss 1.6032\n"
          ]
        }
      ]
    },
    {
      "cell_type": "code",
      "source": [
        "# inference\n",
        "\n",
        "xx = torch.zeros((2, 1), dtype=torch.long, device=device)\n",
        "yy = model.generate(xx, 500)\n",
        "print(decode(yy[1].tolist()))"
      ],
      "metadata": {
        "id": "R-CFkiyp5Tjz",
        "outputId": "096bda27-1172-44d3-c5ad-b4742947d42c",
        "colab": {
          "base_uri": "https://localhost:8080/"
        }
      },
      "execution_count": null,
      "outputs": [
        {
          "output_type": "stream",
          "name": "stdout",
          "text": [
            "\n",
            "I are you, and I take the crown tell bedced\n",
            "'Gainst of York, out\n",
            "Myself dready and charge buried to reasoning\n",
            "Which is not the trums in the jestice.\n",
            "\n",
            "Nurse:\n",
            "Well the kinst thou docers, to Yorked from god\n",
            "I executest vengeed that I under manner where?\n",
            "When for some to smed thus?\n",
            "\n",
            "CATEN:\n",
            "My Lord of loving King of the nurse to beard thy cares foul approachments,\n",
            "I wink our honest a any did inkling else.\n",
            "To they stratege for this,\n",
            "That's departiles,\n",
            "And suburdenititufuly forfeignal we grave;\n",
            "And tel\n"
          ]
        }
      ]
    },
    {
      "cell_type": "code",
      "source": [],
      "metadata": {
        "id": "9slRbIWF82YO"
      },
      "execution_count": null,
      "outputs": []
    }
  ],
  "metadata": {
    "colab": {
      "provenance": [],
      "gpuType": "T4"
    },
    "kernelspec": {
      "display_name": "Python 3",
      "name": "python3"
    },
    "accelerator": "GPU"
  },
  "nbformat": 4,
  "nbformat_minor": 0
}